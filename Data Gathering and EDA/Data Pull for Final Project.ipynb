{
 "cells": [
  {
   "cell_type": "code",
   "execution_count": null,
   "metadata": {},
   "outputs": [],
   "source": [
    "### Group 1 \n",
    "### Data for final project"
   ]
  },
  {
   "cell_type": "markdown",
   "metadata": {},
   "source": [
    "## EFTs"
   ]
  },
  {
   "cell_type": "markdown",
   "metadata": {},
   "source": [
    "### Nikkei 225 Stock Average\n",
    "This is Japan's primary stock index. To evaluate trading strategies based on the index, we'll be looking at ETFs that track the index. \n",
    "\n",
    "There are 2 primary ETFs for the index:$^1$ \n",
    "- iShares Core Nikkei 225 ETF (ticker: `1329.T`)\n",
    "- NEXT FUNDS Nikkei 225 Exchange Traded Fund | Nomura (ticker: `1321.T`)\n",
    "\n",
    "The index on Yahoo Finance is: \n",
    "`^N225`\n",
    "\n",
    "The Nikkei 255 ETF by Normura has 10x as much volume as the iShares Core Nikkei, but the iShares Core Nikkei costs half in management fees incl. taxes (`1329.T` fees: 0.0495%$^2$ versus `1321.T` fees: 0.11%$^3$)\n",
    "\n",
    "Although we'd ordinarily choose `1329.T` for the lower management fees, it is denominatedin YEN. Thus, we will also pull data for `EWJ`, which gives investors broad exposure to the Japanese market\n",
    "\n",
    "*Sources:*\n",
    "- $^1$ https://www.investopedia.com/articles/investing/102114/how-invest-nikkei-225.asp\n",
    "- $^2$ https://www.blackrock.com/jp/individual-en/en/literature/fact-sheet/1329-ishares-core-nikkei-225-etf-fund-fact-sheet-en-jp.pdf\n",
    "- $^3$ https://global.nomura-am.co.jp/nextfunds/products/1321_TPros.pdf"
   ]
  },
  {
   "cell_type": "markdown",
   "metadata": {},
   "source": [
    "### European Performance\n",
    "\n",
    "There are several European ETFs we could use as proxy for the Eurozone's health. However, for the purposes of this analysis, we will use the Stoxx 50, which is designed to represent the 50 largest Eurozone companies.$^1$ Following this index is advantegous as it allows us to have exposure to Belgium, Finland, France, Germany, Ireland, Italy, the Netherlands, and Spain. The ticker for the index is `^STOXX50E`\n",
    "\n",
    "One of the most popular ETFs that tracks this index is the SPDR EURO STOXX 50 ETF, `FEZ`. Another available EFT is iShares Core EURO STOXX 50 UCITS ETF `EUE.MI`\n",
    "\n",
    "For simplicity, we will use the `FEZ`, as its prices are already in USD. \n",
    "\n",
    "*Sources:*\n",
    "- $^1$ https://www.investopedia.com/terms/d/dowjoneseurostoxx50.asp"
   ]
  },
  {
   "cell_type": "markdown",
   "metadata": {},
   "source": [
    "### Pulling the data"
   ]
  },
  {
   "cell_type": "code",
   "execution_count": 4,
   "metadata": {},
   "outputs": [],
   "source": [
    "import pandas as pd\n",
    "import numpy as np\n",
    "\n",
    "import yfinance as yf\n",
    "import pandas_datareader as pdr"
   ]
  },
  {
   "cell_type": "code",
   "execution_count": 29,
   "metadata": {},
   "outputs": [],
   "source": [
    "STARTDATE = \"1995-01-01\"\n",
    "ENDDATE = \"2024-02-29\"\n",
    "\n",
    "FILEOUT = '../Final Project/etf_euro_jap_project_data.xlsx'"
   ]
  },
  {
   "cell_type": "code",
   "execution_count": 30,
   "metadata": {},
   "outputs": [],
   "source": [
    "TICKS = [\n",
    "    '1329.T',\n",
    "    '1321.T',\n",
    "    'FEZ',\n",
    "    '^N225',\n",
    "    '^STOXX50E'\n",
    "]\n",
    "\n",
    "FLDS = ['quoteType','shortName','volume','totalAssets','trailingAnnualDividendYield','longBusinessSummary']"
   ]
  },
  {
   "cell_type": "code",
   "execution_count": 31,
   "metadata": {},
   "outputs": [],
   "source": [
    "info = pd.DataFrame(index=TICKS,columns=FLDS)\n",
    "info.index.name = 'ticker'\n",
    "for tick in info.index:\n",
    "    temp = yf.Ticker(tick).get_info()\n",
    "\n",
    "    for fld in FLDS:\n",
    "        if fld in temp.keys():\n",
    "            info.loc[tick,fld] = temp[fld]            "
   ]
  },
  {
   "cell_type": "code",
   "execution_count": 32,
   "metadata": {},
   "outputs": [
    {
     "name": "stderr",
     "output_type": "stream",
     "text": [
      "[*********************100%%**********************]  5 of 5 completed\n"
     ]
    }
   ],
   "source": [
    "prices = yf.download(TICKS, start=STARTDATE, end=ENDDATE)['Adj Close'][info.index]\n",
    "\n",
    "prices.index.name = 'date'\n",
    "\n",
    "prices.dropna(inplace=True)\n",
    "rets = prices.pct_change().dropna()"
   ]
  },
  {
   "cell_type": "code",
   "execution_count": 33,
   "metadata": {},
   "outputs": [
    {
     "data": {
      "text/html": [
       "<div>\n",
       "<style scoped>\n",
       "    .dataframe tbody tr th:only-of-type {\n",
       "        vertical-align: middle;\n",
       "    }\n",
       "\n",
       "    .dataframe tbody tr th {\n",
       "        vertical-align: top;\n",
       "    }\n",
       "\n",
       "    .dataframe thead th {\n",
       "        text-align: right;\n",
       "    }\n",
       "</style>\n",
       "<table border=\"1\" class=\"dataframe\">\n",
       "  <thead>\n",
       "    <tr style=\"text-align: right;\">\n",
       "      <th></th>\n",
       "      <th>quoteType</th>\n",
       "      <th>shortName</th>\n",
       "      <th>volume</th>\n",
       "      <th>totalAssets</th>\n",
       "      <th>trailingAnnualDividendYield</th>\n",
       "      <th>longBusinessSummary</th>\n",
       "    </tr>\n",
       "    <tr>\n",
       "      <th>ticker</th>\n",
       "      <th></th>\n",
       "      <th></th>\n",
       "      <th></th>\n",
       "      <th></th>\n",
       "      <th></th>\n",
       "      <th></th>\n",
       "    </tr>\n",
       "  </thead>\n",
       "  <tbody>\n",
       "    <tr>\n",
       "      <th>1329.T</th>\n",
       "      <td>ETF</td>\n",
       "      <td>BLACKROCK JAPAN CO LTD ISHARES</td>\n",
       "      <td>24042</td>\n",
       "      <td>1348756045824</td>\n",
       "      <td>NaN</td>\n",
       "      <td>NaN</td>\n",
       "    </tr>\n",
       "    <tr>\n",
       "      <th>1321.T</th>\n",
       "      <td>ETF</td>\n",
       "      <td>NOMURA ASSET MANAGEMENT CO LTD</td>\n",
       "      <td>328159</td>\n",
       "      <td>10899299500032</td>\n",
       "      <td>NaN</td>\n",
       "      <td>NaN</td>\n",
       "    </tr>\n",
       "    <tr>\n",
       "      <th>FEZ</th>\n",
       "      <td>ETF</td>\n",
       "      <td>SPDR DJ Euro STOXX 50 Etf</td>\n",
       "      <td>768955</td>\n",
       "      <td>3591639040</td>\n",
       "      <td>0.015321</td>\n",
       "      <td>The fund employs a sampling strategy, which me...</td>\n",
       "    </tr>\n",
       "    <tr>\n",
       "      <th>^N225</th>\n",
       "      <td>INDEX</td>\n",
       "      <td>Nikkei 225</td>\n",
       "      <td>NaN</td>\n",
       "      <td>NaN</td>\n",
       "      <td>NaN</td>\n",
       "      <td>NaN</td>\n",
       "    </tr>\n",
       "    <tr>\n",
       "      <th>^STOXX50E</th>\n",
       "      <td>INDEX</td>\n",
       "      <td>ESTX 50 PR.EUR</td>\n",
       "      <td>NaN</td>\n",
       "      <td>NaN</td>\n",
       "      <td>NaN</td>\n",
       "      <td>NaN</td>\n",
       "    </tr>\n",
       "  </tbody>\n",
       "</table>\n",
       "</div>"
      ],
      "text/plain": [
       "          quoteType                        shortName  volume     totalAssets  \\\n",
       "ticker                                                                         \n",
       "1329.T          ETF  BLACKROCK JAPAN CO LTD ISHARES    24042   1348756045824   \n",
       "1321.T          ETF  NOMURA ASSET MANAGEMENT CO LTD   328159  10899299500032   \n",
       "FEZ             ETF        SPDR DJ Euro STOXX 50 Etf  768955      3591639040   \n",
       "^N225         INDEX                       Nikkei 225     NaN             NaN   \n",
       "^STOXX50E     INDEX                   ESTX 50 PR.EUR     NaN             NaN   \n",
       "\n",
       "          trailingAnnualDividendYield  \\\n",
       "ticker                                  \n",
       "1329.T                            NaN   \n",
       "1321.T                            NaN   \n",
       "FEZ                          0.015321   \n",
       "^N225                             NaN   \n",
       "^STOXX50E                         NaN   \n",
       "\n",
       "                                         longBusinessSummary  \n",
       "ticker                                                        \n",
       "1329.T                                                   NaN  \n",
       "1321.T                                                   NaN  \n",
       "FEZ        The fund employs a sampling strategy, which me...  \n",
       "^N225                                                    NaN  \n",
       "^STOXX50E                                                NaN  "
      ]
     },
     "execution_count": 33,
     "metadata": {},
     "output_type": "execute_result"
    }
   ],
   "source": [
    "info"
   ]
  },
  {
   "cell_type": "code",
   "execution_count": 34,
   "metadata": {},
   "outputs": [
    {
     "data": {
      "text/html": [
       "<div>\n",
       "<style scoped>\n",
       "    .dataframe tbody tr th:only-of-type {\n",
       "        vertical-align: middle;\n",
       "    }\n",
       "\n",
       "    .dataframe tbody tr th {\n",
       "        vertical-align: top;\n",
       "    }\n",
       "\n",
       "    .dataframe thead th {\n",
       "        text-align: right;\n",
       "    }\n",
       "</style>\n",
       "<table border=\"1\" class=\"dataframe\">\n",
       "  <thead>\n",
       "    <tr style=\"text-align: right;\">\n",
       "      <th>Ticker</th>\n",
       "      <th>1329.T</th>\n",
       "      <th>1321.T</th>\n",
       "      <th>FEZ</th>\n",
       "      <th>^N225</th>\n",
       "      <th>^STOXX50E</th>\n",
       "    </tr>\n",
       "    <tr>\n",
       "      <th>date</th>\n",
       "      <th></th>\n",
       "      <th></th>\n",
       "      <th></th>\n",
       "      <th></th>\n",
       "      <th></th>\n",
       "    </tr>\n",
       "  </thead>\n",
       "  <tbody>\n",
       "    <tr>\n",
       "      <th>2009-01-06</th>\n",
       "      <td>0.002205</td>\n",
       "      <td>0.001088</td>\n",
       "      <td>0.008520</td>\n",
       "      <td>0.004171</td>\n",
       "      <td>0.009799</td>\n",
       "    </tr>\n",
       "    <tr>\n",
       "      <th>2009-01-07</th>\n",
       "      <td>0.017602</td>\n",
       "      <td>0.020652</td>\n",
       "      <td>-0.013691</td>\n",
       "      <td>0.017443</td>\n",
       "      <td>-0.015467</td>\n",
       "    </tr>\n",
       "    <tr>\n",
       "      <th>2009-01-08</th>\n",
       "      <td>-0.028108</td>\n",
       "      <td>-0.040468</td>\n",
       "      <td>0.010041</td>\n",
       "      <td>-0.039269</td>\n",
       "      <td>-0.008662</td>\n",
       "    </tr>\n",
       "    <tr>\n",
       "      <th>2009-01-09</th>\n",
       "      <td>0.005562</td>\n",
       "      <td>-0.002220</td>\n",
       "      <td>-0.044737</td>\n",
       "      <td>-0.004464</td>\n",
       "      <td>-0.011909</td>\n",
       "    </tr>\n",
       "    <tr>\n",
       "      <th>2009-01-13</th>\n",
       "      <td>-0.066372</td>\n",
       "      <td>-0.048943</td>\n",
       "      <td>-0.041016</td>\n",
       "      <td>-0.047856</td>\n",
       "      <td>-0.030286</td>\n",
       "    </tr>\n",
       "    <tr>\n",
       "      <th>...</th>\n",
       "      <td>...</td>\n",
       "      <td>...</td>\n",
       "      <td>...</td>\n",
       "      <td>...</td>\n",
       "      <td>...</td>\n",
       "    </tr>\n",
       "    <tr>\n",
       "      <th>2024-02-21</th>\n",
       "      <td>-0.003271</td>\n",
       "      <td>-0.002762</td>\n",
       "      <td>0.006487</td>\n",
       "      <td>-0.002644</td>\n",
       "      <td>0.003157</td>\n",
       "    </tr>\n",
       "    <tr>\n",
       "      <th>2024-02-22</th>\n",
       "      <td>0.021964</td>\n",
       "      <td>0.021909</td>\n",
       "      <td>0.015911</td>\n",
       "      <td>0.021863</td>\n",
       "      <td>0.016763</td>\n",
       "    </tr>\n",
       "    <tr>\n",
       "      <th>2024-02-26</th>\n",
       "      <td>0.002223</td>\n",
       "      <td>0.001971</td>\n",
       "      <td>0.001784</td>\n",
       "      <td>0.003454</td>\n",
       "      <td>0.001839</td>\n",
       "    </tr>\n",
       "    <tr>\n",
       "      <th>2024-02-27</th>\n",
       "      <td>0.000739</td>\n",
       "      <td>0.001722</td>\n",
       "      <td>0.004750</td>\n",
       "      <td>0.000148</td>\n",
       "      <td>0.004410</td>\n",
       "    </tr>\n",
       "    <tr>\n",
       "      <th>2024-02-28</th>\n",
       "      <td>-0.001478</td>\n",
       "      <td>-0.001228</td>\n",
       "      <td>-0.002167</td>\n",
       "      <td>-0.000802</td>\n",
       "      <td>-0.000403</td>\n",
       "    </tr>\n",
       "  </tbody>\n",
       "</table>\n",
       "<p>3503 rows × 5 columns</p>\n",
       "</div>"
      ],
      "text/plain": [
       "Ticker        1329.T    1321.T       FEZ     ^N225  ^STOXX50E\n",
       "date                                                         \n",
       "2009-01-06  0.002205  0.001088  0.008520  0.004171   0.009799\n",
       "2009-01-07  0.017602  0.020652 -0.013691  0.017443  -0.015467\n",
       "2009-01-08 -0.028108 -0.040468  0.010041 -0.039269  -0.008662\n",
       "2009-01-09  0.005562 -0.002220 -0.044737 -0.004464  -0.011909\n",
       "2009-01-13 -0.066372 -0.048943 -0.041016 -0.047856  -0.030286\n",
       "...              ...       ...       ...       ...        ...\n",
       "2024-02-21 -0.003271 -0.002762  0.006487 -0.002644   0.003157\n",
       "2024-02-22  0.021964  0.021909  0.015911  0.021863   0.016763\n",
       "2024-02-26  0.002223  0.001971  0.001784  0.003454   0.001839\n",
       "2024-02-27  0.000739  0.001722  0.004750  0.000148   0.004410\n",
       "2024-02-28 -0.001478 -0.001228 -0.002167 -0.000802  -0.000403\n",
       "\n",
       "[3503 rows x 5 columns]"
      ]
     },
     "execution_count": 34,
     "metadata": {},
     "output_type": "execute_result"
    }
   ],
   "source": [
    "rets"
   ]
  },
  {
   "cell_type": "code",
   "execution_count": 35,
   "metadata": {},
   "outputs": [],
   "source": [
    "with pd.ExcelWriter(FILEOUT) as writer:  \n",
    "    info.to_excel(writer, sheet_name= 'descriptions')\n",
    "    rets.to_excel(writer, sheet_name='total returns')\n",
    "    prices.to_excel(writer, sheet_name='prices')"
   ]
  },
  {
   "cell_type": "markdown",
   "metadata": {},
   "source": [
    "## Interest Rates"
   ]
  },
  {
   "cell_type": "markdown",
   "metadata": {},
   "source": [
    "For interest rates, we'll use the FRED website.\n",
    "\n",
    "**Japanese Interest Rates**\n",
    "We weren't able to find interest rate information for free from the BOJ, so we'll be using the Long-term Gov Bond Yields (10-Year) for the Japanese data. The corresponding tickler is `IRLTLT01JPM156N`\n",
    "\n",
    "For completeness, we'll also pull Interest Rates: Immediate Rates (< 24 Hours): Central Bank Rates, tickler `IRSTCB01JPM156N`\n",
    "\n",
    "**Eurozeon Interest Rates**\n",
    "We'll pull in the ECB rates and the long-term gov bond yields across 19 Eurozone countries. \n",
    "\n",
    "**Ticklers**: \n",
    "1. Interest Rates: Long-Term Government Bond Yields: 10-Year: Main (Including Benchmark) for Euro Area (19 Countries) | `IRLTLT01EZM156N`\n",
    "2. ECB Deposit Facility Rate for Euro Area: `ECBDFR`\n",
    "3. ECB Main Refinancing Operations Rate: Fixed Rate Tenders for Euro Area: `ECBMRRFR`\n",
    "4. ECB Marginal Lending Facility Rate for Euro Area: `ECBMLFR`"
   ]
  },
  {
   "cell_type": "code",
   "execution_count": 36,
   "metadata": {},
   "outputs": [],
   "source": [
    "SAVE_DATA = True\n",
    "\n",
    "startdate = pd.to_datetime(STARTDATE)\n",
    "enddate = pd.to_datetime(ENDDATE)\n",
    "\n",
    "ticks = ['IRLTLT01JPM156N','IRSTCB01JPM156N','IRLTLT01EZM156N','ECBDFR', 'ECBMRRFR', 'ECBMLFR']\n",
    "\n",
    "rates = pdr.DataReader(ticks,'fred',startdate,enddate)\n",
    "rates.index.name = 'date'\n",
    "rates.index = pd.to_datetime(rates.index)"
   ]
  },
  {
   "cell_type": "code",
   "execution_count": 37,
   "metadata": {},
   "outputs": [
    {
     "data": {
      "text/html": [
       "<div>\n",
       "<style scoped>\n",
       "    .dataframe tbody tr th:only-of-type {\n",
       "        vertical-align: middle;\n",
       "    }\n",
       "\n",
       "    .dataframe tbody tr th {\n",
       "        vertical-align: top;\n",
       "    }\n",
       "\n",
       "    .dataframe thead th {\n",
       "        text-align: right;\n",
       "    }\n",
       "</style>\n",
       "<table border=\"1\" class=\"dataframe\">\n",
       "  <thead>\n",
       "    <tr style=\"text-align: right;\">\n",
       "      <th></th>\n",
       "      <th>ticker (FRED)</th>\n",
       "    </tr>\n",
       "    <tr>\n",
       "      <th>description</th>\n",
       "      <th></th>\n",
       "    </tr>\n",
       "  </thead>\n",
       "  <tbody>\n",
       "    <tr>\n",
       "      <th>BOJ 10-year</th>\n",
       "      <td>IRLTLT01JPM156N</td>\n",
       "    </tr>\n",
       "    <tr>\n",
       "      <th>BOJ 24h Rates</th>\n",
       "      <td>IRSTCB01JPM156N</td>\n",
       "    </tr>\n",
       "    <tr>\n",
       "      <th>Euro 10-Year</th>\n",
       "      <td>IRLTLT01EZM156N</td>\n",
       "    </tr>\n",
       "    <tr>\n",
       "      <th>ECB Deposit Rate</th>\n",
       "      <td>ECBDFR</td>\n",
       "    </tr>\n",
       "    <tr>\n",
       "      <th>ECB Refinancing</th>\n",
       "      <td>ECBMRRFR</td>\n",
       "    </tr>\n",
       "    <tr>\n",
       "      <th>ECB Marginal Rate</th>\n",
       "      <td>ECBMLFR</td>\n",
       "    </tr>\n",
       "  </tbody>\n",
       "</table>\n",
       "</div>"
      ],
      "text/plain": [
       "                     ticker (FRED)\n",
       "description                       \n",
       "BOJ 10-year        IRLTLT01JPM156N\n",
       "BOJ 24h Rates      IRSTCB01JPM156N\n",
       "Euro 10-Year       IRLTLT01EZM156N\n",
       "ECB Deposit Rate            ECBDFR\n",
       "ECB Refinancing           ECBMRRFR\n",
       "ECB Marginal Rate          ECBMLFR"
      ]
     },
     "execution_count": 37,
     "metadata": {},
     "output_type": "execute_result"
    }
   ],
   "source": [
    "info = pd.DataFrame(index=ticks, data=['BOJ 10-year','BOJ 24h Rates','Euro 10-Year', 'ECB Deposit Rate',\n",
    "                                       'ECB Refinancing', 'ECB Marginal Rate'])\n",
    "info.index.name = 'ticker (FRED)'\n",
    "info.columns = ['description']\n",
    "info = info.reset_index().set_index('description')\n",
    "info"
   ]
  },
  {
   "cell_type": "code",
   "execution_count": 38,
   "metadata": {},
   "outputs": [],
   "source": [
    "if SAVE_DATA:\n",
    "    outfile = '../Final Project/euro_japan_rates.xlsx'\n",
    "    with pd.ExcelWriter(outfile) as writer:  \n",
    "        info.to_excel(writer, sheet_name= 'info', index=True)\n",
    "        rates.to_excel(writer, sheet_name= 'data', index=True)"
   ]
  },
  {
   "cell_type": "markdown",
   "metadata": {},
   "source": [
    "## Economic Data\n",
    "We will use the following economic indicators: \n",
    "-   Inflation, consumer prices for Japan: `FPCPITOTLZGJPN`, Percent, Not Seasonally Adjusted, Annual Frequency\n",
    "-  Inflation, consumer prices for the Euro Area: `FPCPITOTLZGEMU`, Percent, Not Seasonally Adjusted, Annual Frequency\n",
    "-  Real Gross Domestic Product (Euro/ECU Series) for Euro Area (19 Countries): `CLVMEURSCAB1GQEA19`, Millions of Chained 2010 Euros, Seasonally Adjusted, Quarterly Data\n",
    "- Real Gross Domestic Product for Japan: `JPNRGDPEXP`, Billions of Chained 2015 Yen, Seasonally Adjusted, Quarterly"
   ]
  },
  {
   "cell_type": "code",
   "execution_count": 39,
   "metadata": {},
   "outputs": [],
   "source": [
    "ticks = ['FPCPITOTLZGJPN','FPCPITOTLZGEMU','CLVMEURSCAB1GQEA19','JPNRGDPEXP']\n",
    "labels = ['CPI Japan Annual','CPI Euro Annual','RGDP Euro','RGDP Japan']\n",
    "\n",
    "data = pdr.DataReader(ticks,'fred',startdate,enddate)\n",
    "data.index.name = 'date'\n",
    "data.index = pd.to_datetime(data.index)\n",
    "data.columns = labels"
   ]
  },
  {
   "cell_type": "code",
   "execution_count": 40,
   "metadata": {},
   "outputs": [
    {
     "data": {
      "text/html": [
       "<div>\n",
       "<style scoped>\n",
       "    .dataframe tbody tr th:only-of-type {\n",
       "        vertical-align: middle;\n",
       "    }\n",
       "\n",
       "    .dataframe tbody tr th {\n",
       "        vertical-align: top;\n",
       "    }\n",
       "\n",
       "    .dataframe thead th {\n",
       "        text-align: right;\n",
       "    }\n",
       "</style>\n",
       "<table border=\"1\" class=\"dataframe\">\n",
       "  <thead>\n",
       "    <tr style=\"text-align: right;\">\n",
       "      <th></th>\n",
       "      <th>ticker (FRED)</th>\n",
       "    </tr>\n",
       "    <tr>\n",
       "      <th>description</th>\n",
       "      <th></th>\n",
       "    </tr>\n",
       "  </thead>\n",
       "  <tbody>\n",
       "    <tr>\n",
       "      <th>CPI Japan Annual</th>\n",
       "      <td>FPCPITOTLZGJPN</td>\n",
       "    </tr>\n",
       "    <tr>\n",
       "      <th>CPI Euro Annual</th>\n",
       "      <td>FPCPITOTLZGEMU</td>\n",
       "    </tr>\n",
       "    <tr>\n",
       "      <th>RGDP Euro</th>\n",
       "      <td>CLVMEURSCAB1GQEA19</td>\n",
       "    </tr>\n",
       "    <tr>\n",
       "      <th>RGDP Japan</th>\n",
       "      <td>JPNRGDPEXP</td>\n",
       "    </tr>\n",
       "  </tbody>\n",
       "</table>\n",
       "</div>"
      ],
      "text/plain": [
       "                       ticker (FRED)\n",
       "description                         \n",
       "CPI Japan Annual      FPCPITOTLZGJPN\n",
       "CPI Euro Annual       FPCPITOTLZGEMU\n",
       "RGDP Euro         CLVMEURSCAB1GQEA19\n",
       "RGDP Japan                JPNRGDPEXP"
      ]
     },
     "execution_count": 40,
     "metadata": {},
     "output_type": "execute_result"
    }
   ],
   "source": [
    "info = pd.DataFrame(index=ticks, data=labels)\n",
    "info.index.name = 'ticker (FRED)'\n",
    "info.columns = ['description']\n",
    "info = info.reset_index().set_index('description')\n",
    "info"
   ]
  },
  {
   "cell_type": "code",
   "execution_count": 42,
   "metadata": {},
   "outputs": [],
   "source": [
    "if SAVE_DATA:\n",
    "    outfile = '../Final Project/economic_data_eu_jap.xlsx'\n",
    "    with pd.ExcelWriter(outfile) as writer:  \n",
    "        info.to_excel(writer, sheet_name= 'info', index=True)\n",
    "        data.to_excel(writer, sheet_name= 'data', index=True)"
   ]
  },
  {
   "cell_type": "markdown",
   "metadata": {},
   "source": [
    "**NOTE**\n",
    "Because this data is in YEN and Euros, we have decided to use data from the IMF, normalized into USD. We could convert into USD ourselves using the market rate, but we wanted to ensure good quality data going into the modeling. "
   ]
  }
 ],
 "metadata": {
  "kernelspec": {
   "display_name": "base",
   "language": "python",
   "name": "python3"
  },
  "language_info": {
   "codemirror_mode": {
    "name": "ipython",
    "version": 3
   },
   "file_extension": ".py",
   "mimetype": "text/x-python",
   "name": "python",
   "nbconvert_exporter": "python",
   "pygments_lexer": "ipython3",
   "version": "3.11.4"
  }
 },
 "nbformat": 4,
 "nbformat_minor": 2
}
